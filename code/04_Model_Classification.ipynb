{
 "cells": [
  {
   "cell_type": "markdown",
   "id": "02a262cf",
   "metadata": {},
   "source": [
    "# NLP"
   ]
  },
  {
   "cell_type": "markdown",
   "id": "cc17a7f1",
   "metadata": {},
   "source": [
    "## Modeling"
   ]
  },
  {
   "cell_type": "markdown",
   "id": "9f24daa3",
   "metadata": {},
   "source": [
    "    imports"
   ]
  },
  {
   "cell_type": "code",
   "execution_count": 2,
   "id": "e0993b78",
   "metadata": {},
   "outputs": [],
   "source": [
    "import numpy as np\n",
    "import pandas as pd\n",
    "\n",
    "import matplotlib.pyplot as plt\n",
    "import seaborn as sns\n",
    "\n",
    "import pickle\n",
    "import joblib\n",
    "\n",
    "from nltk.corpus import stopwords\n",
    "\n",
    "from sklearn.model_selection import train_test_split, cross_val_score, GridSearchCV\n",
    "from sklearn.pipeline import Pipeline\n",
    "from sklearn.feature_extraction.text import CountVectorizer, TfidfVectorizer\n",
    "from sklearn.naive_bayes import MultinomialNB\n",
    "from sklearn.linear_model import LogisticRegression, SGDClassifier\n",
    "from sklearn.svm import SVC, LinearSVC\n",
    "from sklearn.ensemble import AdaBoostClassifier, RandomForestClassifier\n",
    "from sklearn.metrics import accuracy_score, precision_score, recall_score, plot_roc_curve,\\\n",
    "confusion_matrix, plot_confusion_matrix, classification_report\n",
    "\n",
    "from xgboost import XGBClassifier, XGBRFClassifier"
   ]
  },
  {
   "cell_type": "markdown",
   "id": "fab9fa67",
   "metadata": {},
   "source": [
    "    read"
   ]
  },
  {
   "cell_type": "code",
   "execution_count": 5,
   "id": "d84826f4",
   "metadata": {},
   "outputs": [],
   "source": [
    "dep_model = pd.read_csv(\"../data/r_depression_data/engineered_depression_data.csv\")\n",
    "anx_model = pd.read_csv(\"../data/r_anxiety_data/engineered_anxiety_data.csv\")"
   ]
  },
  {
   "cell_type": "code",
   "execution_count": 6,
   "id": "0fa0836f",
   "metadata": {},
   "outputs": [
    {
     "data": {
      "text/plain": [
       "((188011, 12), (226184, 12))"
      ]
     },
     "execution_count": 6,
     "metadata": {},
     "output_type": "execute_result"
    }
   ],
   "source": [
    "dep_model.shape, anx_model.shape"
   ]
  },
  {
   "cell_type": "markdown",
   "id": "a403af93",
   "metadata": {},
   "source": [
    "    train-test"
   ]
  },
  {
   "cell_type": "code",
   "execution_count": 7,
   "id": "d9037111",
   "metadata": {},
   "outputs": [],
   "source": [
    "# downsample each dataframe to balance classes 50-50\n",
    "dep = pd.DataFrame(dep_model[[\"text\", \"subreddit\"]].sample(188000, replace=False, random_state=137))\n",
    "anx = pd.DataFrame(anx_model[[\"text\", \"subreddit\"]].sample(188000, replace=False, random_state=137))\n",
    "\n",
    "# merge dataframes into single labeled corpus for supervised modeling\n",
    "model_data = pd.concat([dep, anx])\n",
    "# encode string labels as integer\n",
    "model_data[\"target\"] = model_data[\"subreddit\"].map({\"depression\" : 1, \"Anxiety\" : 0})"
   ]
  },
  {
   "cell_type": "code",
   "execution_count": 8,
   "id": "ed0f592e",
   "metadata": {},
   "outputs": [
    {
     "data": {
      "text/plain": [
       "0    0.5\n",
       "1    0.5\n",
       "Name: target, dtype: float64"
      ]
     },
     "execution_count": 8,
     "metadata": {},
     "output_type": "execute_result"
    }
   ],
   "source": [
    "# X corpus of documents\n",
    "X = model_data[\"text\"]\n",
    "# encoded labels of subreddit \n",
    "y = model_data[\"target\"]\n",
    "\n",
    "# baseline is 50-50\n",
    "y.value_counts(normalize = 1)"
   ]
  },
  {
   "cell_type": "code",
   "execution_count": 9,
   "id": "7cec2e1c",
   "metadata": {},
   "outputs": [],
   "source": [
    "# Train - test split\n",
    "X_train, X_test, y_train, y_test = train_test_split(X, y, test_size=.35, shuffle=True, stratify=y, random_state=137)"
   ]
  },
  {
   "cell_type": "code",
   "execution_count": 10,
   "id": "ff402a0d",
   "metadata": {},
   "outputs": [],
   "source": [
    "# we carry our list of stopswords over from preprocessing so our exported/pickled pipelined model\n",
    "# will remove those stop words from user input\n",
    "# this causes a warning message to appear about minor inconsistencies between stopword lists\n",
    "do_not_pass_go = ['up', 'me', 'which', 'her', 'although', 'afterwards', 'can', 'below', 'couldnt', 'co', 'sometimes',\n",
    "'must', 'whither', \"that'll\", 'weren', 'will', \"wasn't\", \"wouldn't\", 'such', 'somewhere', 'amoungst',\n",
    "'whereafter', 'into', 'is', 'themselves', 'in', 'at', 'hereupon', 'only', 'top', 'becomes', 'they',\n",
    "\"shouldn't\", 'it', 'whoever', 'meanwhile', 'keep', 'haven', 'among', 'with', 'next', 'three', 'as',\n",
    "'above', 'has', 'none', 'less', 're', 'been', 'former', 'third', 'wasn', 'may', 'being', 'anyway',\n",
    "'had', 'somehow', 'whenever', 'won', 'where', 'get', 'across', \"it's\", 'least', \"you'd\", 'many',\n",
    "\"haven't\", 'm', 'during', 'might', 'we', 'didn', 'myself', 'via', 'again', 'sometime', 'put', 'that',\n",
    "'beforehand', 'much', \"aren't\", 'anyhow', 'everything', 'last', 'seems', 'and', 'inc', 'other',\n",
    "'still', 'whence', 'more', 'rather', 'side', 'due', 'per', 'thin', 'shan', 'thereupon', 'isn', 'us',\n",
    "'anyone', 'mine', 'seem', 'all', 'toward', 'own', 'when', 'thick', 'became', 'eg', 'down', 'him',\n",
    "'done', 'beside', 'fire', 'same', 'were', 'about', 'ourselves', 'shouldn', 'find', \"hasn't\", 'un',\n",
    "'sixty', 'hundred', 'ie', 'nor', 'hers', 'now', 'wherein', 'hereafter', 'whom', 'yourselves',\n",
    "\"mightn't\", 'two', 'whose', 'around', 'enough', 'very', \"won't\", 'always', \"don't\", 'an', 'cant',\n",
    "'amongst', 'while', 'found', 'never', 'what', 'etc', 'having', 'most', 'ten', 'bill', 'along', 'be',\n",
    "'herein', 'without', \"shan't\", 'five', \"you'll\", 'become', 'one', \"you've\", 'even', 'call', 'show',\n",
    "'another', 'thereafter', 'mill', 'off', 'thence', 'something', 'couldn', 'but', 'cannot', \"weren't\",\n",
    "'hadn', 'mostly', 't', 'however', 'con', 'not', 'nevertheless', 'nowhere', 'why', 'anywhere', 'thus',\n",
    "'anything', 'further', 'doesn', 'after', 'nothing', 'sincere', \"didn't\", 'o', 'i', 'have', 'nobody', 'do',\n",
    "'of', \"mustn't\", 'elsewhere', 'don', 'could', 'them', 'those', 'whatever', 'empty', 'thru', 'noone',\n",
    "'your', 'for', 'herself', 'yourself', 'hence', 'their', 'thereby', 'latterly', 'six', 'was', 'our',\n",
    "'formerly', 'any', 'needn', 'these', 'moreover', 'take', \"she's\", 'few', 'from', 'did', 'often',\n",
    "'forty', \"couldn't\", 'aren', 'bottom', 'perhaps', \"hadn't\", 'twelve', 'others', 'name', 'then',\n",
    "'made', 'my', 'than', 'already', \"should've\", 'since', 'theirs', 'wherever', 'therein', 'between',\n",
    "'some', 'full', 'neither', 'go', 'ours', 'first', 'amount', 'doing', \"doesn't\", 'whereby',\n",
    "'several', 'yet', 'there', 'twenty', 'interest', 'front', 'namely', 'therefore', 'no', 'hereby',\n",
    "'under', 'throughout', 'the', 'just', 'against', 'hasnt', 'eleven', 'once', 'by', 'describe',\n",
    "'does', 'every', 'this', 'wouldn', 'eight', 'yours', \"isn't\", 'de', 'within', 'so', 'behind',\n",
    "'either', 'cry', 'on', 'else', 'ever', 'until', 'latter', 'whether', 'nine', 'to', 'seeming',\n",
    "'each', 'how', 'himself', 'before', 'beyond', 'alone', 'its', 'hasn', 've', 'towards', 'you',\n",
    "'detail', 'except', 'though', 'itself', 'he', 'system', 'who', 'ma', 'are', 'or', 'here', \"you're\",\n",
    "'someone', 'give', 'serious', 'mightn', 'everywhere', 'upon', 'over', 'also', 'his', 'too', 'together',\n",
    "'both', 'fifteen', 'seemed', 'fill', 's', 'ain', 'whereupon', 'becoming', 'would', 'd', 'otherwise',\n",
    "'should', 'y', 'she', 'onto', 'see', 'almost', 'back', 'well', 'fifty', 'whole', 'part', \"needn't\",\n",
    "'everyone', 'indeed', 'four', 'out', 'am', 'through', 'ltd', 'move', 'mustn', 'besides', 'if', 'll',\n",
    "'please', 'whereas', 'because', 'a', \"ve\", \"youtube\", \"youtube com\", '00', '000', '10 15', '10 days',\n",
    " '10 hours', '10 minutes', '10 months', '10 times', '95', '99', 'youtube videos',  'www reddit',\n",
    "\"www\", \"http\", \"https\", \"reddit\", \"subreddit\", \"r\", \"youtube com\", \"youtu\", \"youtube\"]"
   ]
  },
  {
   "cell_type": "markdown",
   "id": "569e5461",
   "metadata": {},
   "source": [
    "### Deployed Models"
   ]
  },
  {
   "cell_type": "markdown",
   "id": "867b8e74",
   "metadata": {},
   "source": [
    "    Model Comparison and Hyperparameter Tuning"
   ]
  },
  {
   "cell_type": "code",
   "execution_count": null,
   "id": "16cd52d8",
   "metadata": {},
   "outputs": [],
   "source": [
    "# Matrix representations are unused. All models are run with pipelines and gridsearches.\n",
    "# tfidf = TfidfVectorizer(\n",
    "#     stop_words = do_not_pass_go,\n",
    "#     min_df = .001,\n",
    "#     max_df = 1.0,\n",
    "#     ngram_range = (1,2)\n",
    "# )\n",
    "# tfidf.fit(X_train)\n",
    "\n",
    "# tf_matrix = tfidf.transform(X_train)\n",
    "# tf_matrix_df = pd.DataFrame(tf_matrix.todense(), columns=tfidf.get_feature_names())\n",
    "# tf_matrix_df"
   ]
  },
  {
   "cell_type": "markdown",
   "id": "7f4a393a",
   "metadata": {},
   "source": [
    "    Multinomial Naive Bayes"
   ]
  },
  {
   "cell_type": "code",
   "execution_count": 28,
   "id": "4c669a91",
   "metadata": {},
   "outputs": [
    {
     "name": "stdout",
     "output_type": "stream",
     "text": [
      "Fitting 3 folds for each of 24 candidates, totalling 72 fits\n",
      "Wall time: 12min 50s\n"
     ]
    },
    {
     "data": {
      "text/plain": [
       "GridSearchCV(cv=3,\n",
       "             estimator=Pipeline(steps=[('cv', CountVectorizer()),\n",
       "                                       ('nb', MultinomialNB())]),\n",
       "             n_jobs=-1,\n",
       "             param_grid={'cv__max_df': [0.995, 1.0],\n",
       "                         'cv__max_features': [5000, 10000],\n",
       "                         'cv__min_df': [0.0001, 0.001],\n",
       "                         'cv__ngram_range': [(1, 1), (1, 2), (1, 3)],\n",
       "                         'cv__stop_words': [frozenset({'a', 'about', 'above',\n",
       "                                                       'across', 'after',\n",
       "                                                       'afterwards', 'again',\n",
       "                                                       'against', 'ain', 'all',\n",
       "                                                       'almost', 'alone',\n",
       "                                                       'along', 'already',\n",
       "                                                       'also', 'although',\n",
       "                                                       'always', 'am', 'among',\n",
       "                                                       'amongst', 'amoungst',\n",
       "                                                       'amount', 'an', 'and',\n",
       "                                                       'another', 'any',\n",
       "                                                       'anyhow', 'anyone',\n",
       "                                                       'anything', 'anyway', ...})],\n",
       "                         'nb__alpha': [1.0]},\n",
       "             verbose=10)"
      ]
     },
     "execution_count": 28,
     "metadata": {},
     "output_type": "execute_result"
    }
   ],
   "source": [
    "# A gridsearch over select hyperparameters for count vectorizer and multinomial naive bayes\n",
    "# uncomment to run ~ 1 hr. + run time\n",
    "# %%time\n",
    "# pipe = Pipeline(\n",
    "#     [\n",
    "#         (\"cv\", CountVectorizer()),\n",
    "#         (\"nb\", MultinomialNB())\n",
    "#     ]\n",
    "# )\n",
    "\n",
    "# params = {\n",
    "#     \"cv__stop_words\"   : [do_not_pass_go],\n",
    "#     \"cv__max_features\" : [5000, 10000],\n",
    "#     \"cv__min_df\"       : [0.0001, 0.001],\n",
    "#     \"cv__max_df\"       : [0.995, 1.0],\n",
    "#     \"cv__ngram_range\"  : [(1,1), (1,2), (1,3)],\n",
    "#     \"nb__alpha\"        : [0.2, 1.0, 5.0]\n",
    "# }\n",
    "\n",
    "# gs_nb = GridSearchCV(\n",
    "#     pipe,\n",
    "#     param_grid=params,\n",
    "#     cv = 3,\n",
    "#     n_jobs = 7\n",
    "# )\n",
    "\n",
    "# gs_nb.fit(X_train, y_train)"
   ]
  },
  {
   "cell_type": "code",
   "execution_count": 34,
   "id": "f7fe8704",
   "metadata": {},
   "outputs": [
    {
     "data": {
      "text/plain": [
       "['../models/best_nb_model.pkl']"
      ]
     },
     "execution_count": 34,
     "metadata": {},
     "output_type": "execute_result"
    }
   ],
   "source": [
    "# pickle best model\n",
    "joblib.dump(gs_nb.best_estimator_, \"../models/best_nb_model_188.pkl\", compress=0)"
   ]
  },
  {
   "cell_type": "code",
   "execution_count": 21,
   "id": "66f0e996",
   "metadata": {},
   "outputs": [],
   "source": [
    "# unpickle best model\n",
    "best_nb = joblib.load(\"../models/best_nb_model.pkl\")"
   ]
  },
  {
   "cell_type": "code",
   "execution_count": 10,
   "id": "8e7e2975",
   "metadata": {},
   "outputs": [
    {
     "name": "stderr",
     "output_type": "stream",
     "text": [
      "C:\\Users\\mjwjl\\anaconda3\\lib\\site-packages\\sklearn\\feature_extraction\\text.py:388: UserWarning: Your stop_words may be inconsistent with your preprocessing. Tokenizing the stop words generated tokens ['10', '15', 'com', 'days', 'hours', 'minutes', 'months', 'times', 'videos'] not in stop_words.\n",
      "  warnings.warn('Your stop_words may be inconsistent with '\n"
     ]
    },
    {
     "name": "stdout",
     "output_type": "stream",
     "text": [
      "Wall time: 1min 23s\n"
     ]
    },
    {
     "data": {
      "text/plain": [
       "(0.8761129296235679, 0.8737689969604864)"
      ]
     },
     "execution_count": 10,
     "metadata": {},
     "output_type": "execute_result"
    }
   ],
   "source": [
    "# pipeline of naivebayes model using hyperparameters found by gridsearch\n",
    "# runtime ~ 30 seconds+\n",
    "%%time\n",
    "pipe = Pipeline(\n",
    "    [\n",
    "        (\"cv\", CountVectorizer(\n",
    "            stop_words   = do_not_pass_go,\n",
    "            max_features = 10000,\n",
    "            min_df       = 0.0001,\n",
    "            ngram_range  = (1, 2))),\n",
    "        \n",
    "        (\"nb\", MultinomialNB(alpha=5))\n",
    "    ]\n",
    ")\n",
    "\n",
    "pipe.fit(X_train, y_train),\n",
    "pipe.score(X_train, y_train), pipe.score(X_test, y_test)"
   ]
  },
  {
   "cell_type": "markdown",
   "id": "7d8d58d7",
   "metadata": {},
   "source": [
    "Delta between train and test accuracy is ~ .25% this is well fit naive bayes model."
   ]
  },
  {
   "cell_type": "code",
   "execution_count": null,
   "id": "e6f0ad65",
   "metadata": {},
   "outputs": [],
   "source": [
    "# pickle this model\n",
    "joblib.dump(pipe, \"../models/best_nb_model_try.pkl\", compress=0)"
   ]
  },
  {
   "cell_type": "code",
   "execution_count": 104,
   "id": "e1dcc743",
   "metadata": {},
   "outputs": [
    {
     "data": {
      "text/plain": [
       "(0.8931155015197568, 0.8605001903534718)"
      ]
     },
     "execution_count": 104,
     "metadata": {},
     "output_type": "execute_result"
    }
   ],
   "source": [
    "y_hat_test = pipe.predict(X_test)\n",
    "\n",
    "recall_score(y_test, y_hat_test), precision_score(y_test, y_hat_test)"
   ]
  },
  {
   "cell_type": "code",
   "execution_count": 105,
   "id": "80f534fc",
   "metadata": {},
   "outputs": [
    {
     "data": {
      "text/plain": [
       "<sklearn.metrics._plot.roc_curve.RocCurveDisplay at 0x28f15c221c0>"
      ]
     },
     "execution_count": 105,
     "metadata": {},
     "output_type": "execute_result"
    },
    {
     "data": {
      "image/png": "[encoded data removed]",
      "text/plain": [
       "<Figure size 432x288 with 1 Axes>"
      ]
     },
     "metadata": {
      "needs_background": "light"
     },
     "output_type": "display_data"
    }
   ],
   "source": [
    "plot_roc_curve(pipe, X_test, y_test)"
   ]
  },
  {
   "cell_type": "markdown",
   "id": "2e07cf06",
   "metadata": {},
   "source": [
    "These metrics examine relations between true positives and type I type II errors. Our model will be deployed to a medical application. We should optimize for precision, minimize type I error. A machine assitant in a medical setting is supplementary. Type I error(false positive) for the user of a mental health app could act as a positive feedback loop, exacerbating their condition."
   ]
  },
  {
   "cell_type": "markdown",
   "id": "0c4e3f5c",
   "metadata": {},
   "source": [
    "    Logistic Regression"
   ]
  },
  {
   "cell_type": "code",
   "execution_count": 217,
   "id": "32aa7111",
   "metadata": {},
   "outputs": [
    {
     "name": "stderr",
     "output_type": "stream",
     "text": [
      "C:\\Users\\mjwjl\\anaconda3\\lib\\site-packages\\sklearn\\model_selection\\_search.py:918: UserWarning: One or more of the test scores are non-finite: [       nan        nan        nan        nan        nan        nan\n",
      "        nan        nan        nan        nan        nan        nan\n",
      "        nan        nan        nan        nan        nan        nan\n",
      "        nan        nan        nan        nan        nan        nan\n",
      " 0.89806465 0.89855974 0.89855974 0.89805237 0.89863339 0.89868249\n",
      " 0.89806056 0.89780278 0.89781915 0.89724632 0.89761048 0.89764321\n",
      " 0.89805646 0.8985761  0.89855565 0.89804828 0.89863748 0.8986784\n",
      " 0.89806056 0.89780278 0.89781097 0.89725041 0.89761866 0.89763912\n",
      " 0.90353928 0.90425941 0.90429624 0.90366203 0.90436579 0.90434943\n",
      " 0.90353928 0.90445172 0.90436989 0.90373977 0.90457856 0.9045581\n",
      " 0.90353928 0.90425941 0.90429624 0.90366203 0.90436579 0.90434943\n",
      " 0.90353928 0.90445172 0.90436989 0.90373977 0.90457856 0.9045581\n",
      "        nan        nan        nan        nan        nan        nan\n",
      "        nan        nan        nan        nan        nan        nan\n",
      "        nan        nan        nan        nan        nan        nan\n",
      "        nan        nan        nan        nan        nan        nan\n",
      " 0.90734043 0.90898527 0.90903846 0.90767185 0.90913666 0.90915303\n",
      " 0.90733224 0.90993862 0.91003682 0.9079419  0.91024959 0.91009411\n",
      " 0.90734452 0.90899754 0.90904255 0.90768003 0.90914484 0.90914484\n",
      " 0.90733224 0.90995499 0.91003273 0.90793372 0.91024959 0.91009002\n",
      " 0.90734043 0.90874386 0.90870704 0.90744681 0.90866612 0.90870295\n",
      " 0.90734043 0.90972177 0.90972586 0.907991   0.90990998 0.90995499\n",
      " 0.90734043 0.90874386 0.90870704 0.90744681 0.90866612 0.90870295\n",
      " 0.90734043 0.90972177 0.90972586 0.907991   0.90990998 0.90995499\n",
      "        nan        nan        nan        nan        nan        nan\n",
      "        nan        nan        nan        nan        nan        nan\n",
      "        nan        nan        nan        nan        nan        nan\n",
      "        nan        nan        nan        nan        nan        nan\n",
      " 0.90447627 0.90579378 0.90579378 0.90414894 0.90583061 0.90567922\n",
      " 0.90447627 0.90340426 0.90344517 0.89981179 0.90202946 0.90244681\n",
      " 0.90447627 0.90576923 0.90579378 0.90415303 0.9058347  0.90567103\n",
      " 0.90447627 0.90338789 0.90344108 0.8998077  0.90203764 0.9024509\n",
      " 0.90500819 0.90636661 0.90619476 0.9046563  0.9063707  0.90620295\n",
      " 0.90500819 0.90525778 0.90534779 0.90309329 0.90473814 0.90478723\n",
      " 0.90500819 0.90636661 0.90619476 0.9046563  0.9063707  0.90620295\n",
      " 0.90500819 0.90525778 0.90534779 0.90309329 0.90473814 0.90478723]\n",
      "  warnings.warn(\n"
     ]
    },
    {
     "name": "stdout",
     "output_type": "stream",
     "text": [
      "Wall time: 3h 40min 53s\n"
     ]
    },
    {
     "data": {
      "text/plain": [
       "GridSearchCV(cv=3,\n",
       "             estimator=Pipeline(steps=[('tf', TfidfVectorizer()),\n",
       "                                       ('logit',\n",
       "                                        LogisticRegression(max_iter=1000))]),\n",
       "             n_jobs=7,\n",
       "             param_grid={'logit__C': [0.1, 1, 10],\n",
       "                         'logit__penalty': [None, 'l1', 'l2'],\n",
       "                         'logit__solver': ['liblinear'],\n",
       "                         'tf__max_df': [0.995, 1.0],\n",
       "                         'tf__max_features': [5000, 10000],\n",
       "                         'tf__min_df': [0.001, 0.0001],\n",
       "                         'tf__ngram_range': [(1, 1), (1, 2), (1, 3)]})"
      ]
     },
     "execution_count": 217,
     "metadata": {},
     "output_type": "execute_result"
    }
   ],
   "source": [
    "# Gridsearch over logistic regression model for select hyperparameters\n",
    "# runtime ~ 3 hrs. 40 mins don't run unpickle model\n",
    "# %%time\n",
    "# pipe = Pipeline(\n",
    "#     [\n",
    "#         (\"tf\", TfidfVectorizer()),\n",
    "#         (\"logit\", LogisticRegression(max_iter=1000))\n",
    "#     ]\n",
    "# )\n",
    "\n",
    "# params = {\n",
    "#     \"tf__max_features\" : [5000, 10000],\n",
    "#     \"tf__min_df\"       : [0.001, 0.0001],\n",
    "#     \"tf__max_df\"       : [0.995, 1.0],\n",
    "#     \"tf__ngram_range\"  : [(1,1), (1,2), (1,3)],\n",
    "#     \"logit__solver\"    : [\"liblinear\"],\n",
    "#     \"logit__penalty\"   : [None, \"l1\", \"l2\"],\n",
    "#     \"logit__C\"         : [0.1, 1, 10]\n",
    "# }\n",
    "\n",
    "# gs_logit = GridSearchCV(\n",
    "#     pipe,\n",
    "#     param_grid=params,\n",
    "#     cv = 3,\n",
    "#     n_jobs = 7\n",
    "# )\n",
    "\n",
    "# gs_logit.fit(X_train, y_train)"
   ]
  },
  {
   "cell_type": "code",
   "execution_count": 219,
   "id": "5d9eb0c9",
   "metadata": {},
   "outputs": [
    {
     "data": {
      "text/plain": [
       "{'logit__C': 1,\n",
       " 'logit__penalty': 'l1',\n",
       " 'logit__solver': 'liblinear',\n",
       " 'tf__max_df': 0.995,\n",
       " 'tf__max_features': 10000,\n",
       " 'tf__min_df': 0.0001,\n",
       " 'tf__ngram_range': (1, 2)}"
      ]
     },
     "execution_count": 219,
     "metadata": {},
     "output_type": "execute_result"
    }
   ],
   "source": [
    "gs_logit.best_params_"
   ]
  },
  {
   "cell_type": "markdown",
   "id": "d3650974",
   "metadata": {},
   "source": [
    "{'logit__C': 1,\n",
    " 'logit__penalty': 'l1',\n",
    " 'logit__solver': 'liblinear',\n",
    " 'tf__max_df': 0.995,\n",
    " 'tf__max_features': 10000,\n",
    " 'tf__min_df': 0.0001,\n",
    " 'tf__ngram_range': (1, 2)}"
   ]
  },
  {
   "cell_type": "code",
   "execution_count": 223,
   "id": "1c6a2458",
   "metadata": {},
   "outputs": [
    {
     "data": {
      "text/plain": [
       "['../models/best_logit_model_188.pkl']"
      ]
     },
     "execution_count": 223,
     "metadata": {},
     "output_type": "execute_result"
    }
   ],
   "source": [
    "#pickle best logitistic regression model\n",
    "joblib.dump(gs_logit.best_estimator_, \"../models/best_logit_model_188.pkl\", compress=0)"
   ]
  },
  {
   "cell_type": "code",
   "execution_count": 3,
   "id": "4c92646f",
   "metadata": {},
   "outputs": [],
   "source": [
    "# unpickle best logistic regression model\n",
    "best_logit_model = joblib.load(\"../models/best_logit_model_188.pkl\")"
   ]
  },
  {
   "cell_type": "code",
   "execution_count": 41,
   "id": "9e42f73f",
   "metadata": {},
   "outputs": [
    {
     "data": {
      "text/plain": [
       "(0.9191775777414075, 0.9108282674772037)"
      ]
     },
     "execution_count": 41,
     "metadata": {},
     "output_type": "execute_result"
    }
   ],
   "source": [
    "# delta between train and test accuray ~ .009% this is a well fit model\n",
    "best_logit_model.score(X_train, y_train), best_logit_model.score(X_test, y_test)"
   ]
  },
  {
   "cell_type": "code",
   "execution_count": 12,
   "id": "fd031d53",
   "metadata": {},
   "outputs": [
    {
     "data": {
      "text/plain": [
       "(0.9278267477203648, 0.8973205755691755)"
      ]
     },
     "execution_count": 12,
     "metadata": {},
     "output_type": "execute_result"
    }
   ],
   "source": [
    "y_hat_test = best_logit_model.predict(X_test)\n",
    "\n",
    "recall_score(y_test, y_hat_test), precision_score(y_test, y_hat_test)"
   ]
  },
  {
   "cell_type": "code",
   "execution_count": 42,
   "id": "88649054",
   "metadata": {},
   "outputs": [
    {
     "data": {
      "text/plain": [
       "<sklearn.metrics._plot.roc_curve.RocCurveDisplay at 0x21fff3a5b50>"
      ]
     },
     "execution_count": 42,
     "metadata": {},
     "output_type": "execute_result"
    },
    {
     "data": {
      "text/plain": [
       "<Figure size 1152x648 with 0 Axes>"
      ]
     },
     "metadata": {},
     "output_type": "display_data"
    },
    {
     "data": {
      "image/png": "[encoded data removed]",
      "text/plain": [
       "<Figure size 432x288 with 1 Axes>"
      ]
     },
     "metadata": {
      "needs_background": "light"
     },
     "output_type": "display_data"
    }
   ],
   "source": [
    "plot_roc_curve(best_logit_model, X_test, y_test, color=\"salmon\")"
   ]
  },
  {
   "cell_type": "markdown",
   "id": "17d75235",
   "metadata": {},
   "source": [
    "These metrics examine relations between true positives and type I type II errors. Our model will be deployed to a medical application. We should optimize for precision, minimize type I error. A machine assitant in a medical setting is supplementary. Type I error(false positive) for the user of a mental health app could act as a positive feedback loop, exacerbating their condition.\n",
    "\n",
    "For the logit model their is an increase is precision, but the threshold would have to be adjusted to tune toward improved precision."
   ]
  },
  {
   "cell_type": "code",
   "execution_count": 14,
   "id": "955796b4",
   "metadata": {},
   "outputs": [],
   "source": [
    "feature_coefficient_df = pd.DataFrame(list(zip(best_logit_model[0].get_feature_names(), best_logit_model[1].coef_.ravel())), columns=[\"Feature\", \"Coefficients\"]).sort_values(by=\"Coefficients\")"
   ]
  },
  {
   "cell_type": "code",
   "execution_count": 83,
   "id": "b71ebf84",
   "metadata": {},
   "outputs": [
    {
     "data": {
      "image/png": "[encoded data removed]",
      "text/plain": [
       "<Figure size 1152x486 with 1 Axes>"
      ]
     },
     "metadata": {
      "needs_background": "light"
     },
     "output_type": "display_data"
    }
   ],
   "source": [
    "plt.figure(figsize=(16,6.75))\n",
    "sns.barplot(x = feature_coefficient_df.sort_values(ascending=False, by=\"Coefficients\")[\"Coefficients\"][0:15],\n",
    "            y = feature_coefficient_df.sort_values(ascending=False, by=\"Coefficients\")[\"Feature\"][0:15], color=\"dimgrey\")\n",
    "\n",
    "plt.title(\"Strongest predictors r/Depression and r/Anxiety\", fontsize=24, color=\"dimgrey\")\n",
    "plt.ylabel(\"\", fontsize=20, color=\"dimgrey\")\n",
    "plt.xlabel(\"\")\n",
    "plt.yticks(fontsize=16, color=\"dimgrey\")\n",
    "plt.xticks(fontsize=16, color=\"dimgrey\");\n",
    "plt.tight_layout()\n",
    "plt.savefig(\"../images/dep_logr_coeffs.png\", transparent=True);"
   ]
  },
  {
   "cell_type": "code",
   "execution_count": 84,
   "id": "5fe8887d",
   "metadata": {},
   "outputs": [
    {
     "data": {
      "image/png": "[encoded data removed]",
      "text/plain": [
       "<Figure size 1152x486 with 1 Axes>"
      ]
     },
     "metadata": {
      "needs_background": "light"
     },
     "output_type": "display_data"
    }
   ],
   "source": [
    "plt.figure(figsize=(16,6.75))\n",
    "sns.barplot(x = feature_coefficient_df.sort_values(ascending=False, by=\"Coefficients\")[\"Coefficients\"][-15:],\n",
    "            y = feature_coefficient_df.sort_values(ascending=False, by=\"Coefficients\")[\"Feature\"][-15:], color=\"salmon\")\n",
    "\n",
    "plt.ylabel(\"\", fontsize=20, color=\"dimgrey\")\n",
    "plt.xlabel(\"Odds Coefficient\", color=\"dimgrey\", fontsize=20)\n",
    "plt.yticks(fontsize=16, color=\"dimgrey\")\n",
    "plt.xticks(fontsize=16, color=\"dimgrey\");\n",
    "plt.tight_layout()\n",
    "plt.savefig(\"../images/anx_logr_coeffs.png\", dpi = 300, transparent=True);"
   ]
  },
  {
   "cell_type": "markdown",
   "id": "95b9cb3e",
   "metadata": {},
   "source": [
    "Plots of the top 15 predicting features for each class provided as the odds-likely weight for each feature. Further candidates for stop words are noted (e.g. dae \"does anyone else\"). Future developement would include the removal of all direct mentions of depression and anxiety to better uncover latent features in n-grams. Examining predicting features for each class seperation by lexical item. For example, the hypothesis of the problem statement that depression with possess a \"grammar\" that is internally and self focused and anxiety with possess a \"grammar\" that is externally and other focused."
   ]
  },
  {
   "cell_type": "code",
   "execution_count": 45,
   "id": "0befc091",
   "metadata": {},
   "outputs": [
    {
     "name": "stdout",
     "output_type": "stream",
     "text": [
      "Wall time: 1min 28s\n"
     ]
    },
    {
     "data": {
      "text/plain": [
       "(0.9193535188216039, 0.9107522796352584)"
      ]
     },
     "execution_count": 45,
     "metadata": {},
     "output_type": "execute_result"
    }
   ],
   "source": [
    "# \"manual\" experimentation with hyper parameters\n",
    "%%time\n",
    "pipe = Pipeline(\n",
    "    [\n",
    "        (\"tf\", TfidfVectorizer(max_features=10000, max_df=0.995, min_df=0.0001, ngram_range= (1,2))),\n",
    "        (\"logit\", LogisticRegression(max_iter=1000, solver=\"liblinear\", penalty=\"l1\"))\n",
    "    ]\n",
    ")\n",
    "\n",
    "pipe.fit(X_train, y_train),\n",
    "pipe.score(X_train, y_train), pipe.score(X_test, y_test)"
   ]
  },
  {
   "cell_type": "code",
   "execution_count": 46,
   "id": "ff4ec962",
   "metadata": {},
   "outputs": [
    {
     "data": {
      "text/plain": [
       "(0.9275835866261398, 0.8973755789164155)"
      ]
     },
     "execution_count": 46,
     "metadata": {},
     "output_type": "execute_result"
    }
   ],
   "source": [
    "y_hat_test = pipe.predict(X_test)\n",
    "\n",
    "recall_score(y_test, y_hat_test), precision_score(y_test, y_hat_test)"
   ]
  },
  {
   "cell_type": "code",
   "execution_count": 54,
   "id": "b1b57d80",
   "metadata": {},
   "outputs": [
    {
     "name": "stdout",
     "output_type": "stream",
     "text": [
      "              precision    recall  f1-score   support\n",
      "\n",
      "     anxiety       0.89      0.93      0.91     63585\n",
      "  depression       0.93      0.90      0.91     68015\n",
      "\n",
      "    accuracy                           0.91    131600\n",
      "   macro avg       0.91      0.91      0.91    131600\n",
      "weighted avg       0.91      0.91      0.91    131600\n",
      "\n"
     ]
    }
   ],
   "source": [
    "print(classification_report(y_hat_test, y_test, target_names=[\"anxiety\", \"depression\"]))"
   ]
  },
  {
   "cell_type": "code",
   "execution_count": 55,
   "id": "d368e9e8",
   "metadata": {},
   "outputs": [
    {
     "data": {
      "text/plain": [
       "<sklearn.metrics._plot.roc_curve.RocCurveDisplay at 0x21ffea2e070>"
      ]
     },
     "execution_count": 55,
     "metadata": {},
     "output_type": "execute_result"
    },
    {
     "data": {
      "image/png": "[encoded data removed]",
      "text/plain": [
       "<Figure size 432x288 with 1 Axes>"
      ]
     },
     "metadata": {
      "needs_background": "light"
     },
     "output_type": "display_data"
    }
   ],
   "source": [
    "plot_roc_curve(pipe[1], X_test, y_test, color=\"salmon\")"
   ]
  },
  {
   "cell_type": "code",
   "execution_count": 58,
   "id": "d828b4e9",
   "metadata": {},
   "outputs": [],
   "source": [
    "cm = pd.DataFrame(confusion_matrix(y_hat_test, y_test))\n",
    "\n",
    "plot_confusion_matrix(pipe[1], pipe[0].transform(X_test), y_test, cmap='Pastel1', \n",
    "                      values_format=None, display_labels=['r/Anxiety', 'r/Depression'], normalize=\"true\");"
   ]
  },
  {
   "cell_type": "markdown",
   "id": "94183deb",
   "metadata": {},
   "source": [
    "### Alternative Models"
   ]
  },
  {
   "cell_type": "markdown",
   "id": "9cdf0fd8",
   "metadata": {},
   "source": [
    "    SVC and Alternatives"
   ]
  },
  {
   "cell_type": "code",
   "execution_count": null,
   "id": "e647e156",
   "metadata": {},
   "outputs": [],
   "source": [
    "# SVC is attempted basic model on downsampled data has a runtime ~ 2hrs.\n",
    "# left here for a time when better computational resources can be accessed\n",
    "# %%time\n",
    "# pipe = Pipeline(\n",
    "#     [\n",
    "#         (\"tf\", TfidfVectorizer(max_features=500)),\n",
    "#         (\"sv\", SVC(cache_size=5000, kernel=\"linear\"))\n",
    "#     ]\n",
    "# )\n",
    "\n",
    "# pipe.fit(X_train, y_train),\n",
    "# pipe.score(X_train, y_train), pipe.score(X_test, y_test)"
   ]
  },
  {
   "cell_type": "markdown",
   "id": "06f85e6d",
   "metadata": {},
   "source": [
    "    Linear SVC"
   ]
  },
  {
   "cell_type": "code",
   "execution_count": 13,
   "id": "d6e25a23",
   "metadata": {},
   "outputs": [
    {
     "name": "stdout",
     "output_type": "stream",
     "text": [
      "Wall time: 30.2 s\n"
     ]
    },
    {
     "data": {
      "text/plain": [
       "(0.9029819969862797, 0.8877695298692118)"
      ]
     },
     "execution_count": 13,
     "metadata": {},
     "output_type": "execute_result"
    }
   ],
   "source": [
    "# \n",
    "%%time\n",
    "pipe = Pipeline(\n",
    "    [\n",
    "        (\"tf\", TfidfVectorizer(max_features=5000)),\n",
    "        (\"sv\", LinearSVC())\n",
    "    ]\n",
    ")\n",
    "\n",
    "pipe.fit(X_train, y_train),\n",
    "pipe.score(X_train, y_train), pipe.score(X_test, y_test)"
   ]
  },
  {
   "cell_type": "code",
   "execution_count": 14,
   "id": "374a74c2",
   "metadata": {},
   "outputs": [
    {
     "data": {
      "text/plain": [
       "(0.9016956299129597, 0.8729844000583176)"
      ]
     },
     "execution_count": 14,
     "metadata": {},
     "output_type": "execute_result"
    }
   ],
   "source": [
    "y_hat_test = pipe.predict(X_test)\n",
    "\n",
    "recall_score(y_test, y_hat_test), precision_score(y_test, y_hat_test)"
   ]
  },
  {
   "cell_type": "code",
   "execution_count": 15,
   "id": "d3fceae9",
   "metadata": {},
   "outputs": [
    {
     "data": {
      "text/plain": [
       "<sklearn.metrics._plot.roc_curve.RocCurveDisplay at 0x1992ec26e80>"
      ]
     },
     "execution_count": 15,
     "metadata": {},
     "output_type": "execute_result"
    },
    {
     "data": {
      "image/png": "[encoded data removed]",
      "text/plain": [
       "<Figure size 432x288 with 1 Axes>"
      ]
     },
     "metadata": {
      "needs_background": "light"
     },
     "output_type": "display_data"
    }
   ],
   "source": [
    "plot_roc_curve(pipe, X_test, y_test)"
   ]
  },
  {
   "cell_type": "markdown",
   "id": "a1e04956",
   "metadata": {},
   "source": [
    "Linear SVC has lower precision and is slightly overfit when compared to logistic regression models."
   ]
  },
  {
   "cell_type": "markdown",
   "id": "ad7d18bc",
   "metadata": {},
   "source": [
    "    Stochastic Gradient Descent"
   ]
  },
  {
   "cell_type": "code",
   "execution_count": 20,
   "id": "21394fea",
   "metadata": {},
   "outputs": [
    {
     "name": "stdout",
     "output_type": "stream",
     "text": [
      "Wall time: 33 s\n"
     ]
    },
    {
     "data": {
      "text/plain": [
       "(0.8896934570006346, 0.8838982689822639)"
      ]
     },
     "execution_count": 20,
     "metadata": {},
     "output_type": "execute_result"
    }
   ],
   "source": [
    "%%time\n",
    "pipe = Pipeline(\n",
    "    [\n",
    "        (\"tf\", TfidfVectorizer()),\n",
    "        (\"sg\", SGDClassifier())\n",
    "    ]\n",
    ")\n",
    "\n",
    "pipe.fit(X_train, y_train),\n",
    "pipe.score(X_train, y_train), pipe.score(X_test, y_test)"
   ]
  },
  {
   "cell_type": "code",
   "execution_count": 21,
   "id": "95059a1a",
   "metadata": {},
   "outputs": [
    {
     "data": {
      "text/plain": [
       "(0.9142955980281934, 0.8590698556298925)"
      ]
     },
     "execution_count": 21,
     "metadata": {},
     "output_type": "execute_result"
    }
   ],
   "source": [
    "y_hat_test = pipe.predict(X_test)\n",
    "\n",
    "recall_score(y_test, y_hat_test), precision_score(y_test, y_hat_test)"
   ]
  },
  {
   "cell_type": "code",
   "execution_count": 22,
   "id": "3876bded",
   "metadata": {},
   "outputs": [
    {
     "data": {
      "text/plain": [
       "<sklearn.metrics._plot.roc_curve.RocCurveDisplay at 0x16484b691f0>"
      ]
     },
     "execution_count": 22,
     "metadata": {},
     "output_type": "execute_result"
    },
    {
     "data": {
      "image/png": "[encoded data removed]",
      "text/plain": [
       "<Figure size 432x288 with 1 Axes>"
      ]
     },
     "metadata": {
      "needs_background": "light"
     },
     "output_type": "display_data"
    }
   ],
   "source": [
    "plot_roc_curve(pipe, X_test, y_test)"
   ]
  },
  {
   "cell_type": "markdown",
   "id": "40dcb7c0",
   "metadata": {},
   "source": [
    "SGD provides poor precision compared to other models."
   ]
  },
  {
   "cell_type": "markdown",
   "id": "a8d509d2",
   "metadata": {},
   "source": [
    "    Random Forest"
   ]
  },
  {
   "cell_type": "code",
   "execution_count": 17,
   "id": "94ea6987",
   "metadata": {},
   "outputs": [
    {
     "name": "stderr",
     "output_type": "stream",
     "text": [
      "C:\\Users\\mjwjl\\anaconda3\\lib\\site-packages\\sklearn\\feature_extraction\\text.py:388: UserWarning: Your stop_words may be inconsistent with your preprocessing. Tokenizing the stop words generated tokens ['10', '15', 'com', 'days', 'hours', 'minutes', 'months', 'times', 'videos'] not in stop_words.\n",
      "  warnings.warn('Your stop_words may be inconsistent with '\n"
     ]
    },
    {
     "name": "stdout",
     "output_type": "stream",
     "text": [
      "Wall time: 58.3 s\n"
     ]
    },
    {
     "data": {
      "text/plain": [
       "(0.8688461538461538, 0.8643465045592705)"
      ]
     },
     "execution_count": 17,
     "metadata": {},
     "output_type": "execute_result"
    }
   ],
   "source": [
    "%%time\n",
    "pipe = Pipeline(\n",
    "    [\n",
    "        (\"tf\", TfidfVectorizer(stop_words = do_not_pass_go, max_features = 5000)),\n",
    "        (\"rf\", RandomForestClassifier(n_estimators=200, max_depth=5))\n",
    "    ]\n",
    ")\n",
    "\n",
    "pipe.fit(X_train, y_train),\n",
    "pipe.score(X_train, y_train), pipe.score(X_test, y_test)"
   ]
  },
  {
   "cell_type": "code",
   "execution_count": 18,
   "id": "010e4a92",
   "metadata": {},
   "outputs": [],
   "source": [
    "feature_importance = pd.DataFrame(list(zip(pipe[0].get_feature_names(), pipe[1].feature_importances_.ravel())), columns=[\"Features\", \"Importance\"])"
   ]
  },
  {
   "cell_type": "code",
   "execution_count": 19,
   "id": "81c5dbe1",
   "metadata": {},
   "outputs": [],
   "source": [
    "feature_importance_rf = feature_importance.sort_values(by=\"Importance\", ascending=False).head(50)"
   ]
  },
  {
   "cell_type": "code",
   "execution_count": 20,
   "id": "c446e7e7",
   "metadata": {},
   "outputs": [
    {
     "data": {
      "text/plain": [
       "279        anxiety\n",
       "3129         panic\n",
       "379         attack\n",
       "2580          life\n",
       "280        anxious\n",
       "4337       suicide\n",
       "1235    depression\n",
       "381        attacks\n",
       "2620          live\n",
       "283        anymore\n",
       "Name: Features, dtype: object"
      ]
     },
     "execution_count": 20,
     "metadata": {},
     "output_type": "execute_result"
    }
   ],
   "source": [
    "feature_importance_rf[\"Features\"][0:10]"
   ]
  },
  {
   "cell_type": "code",
   "execution_count": 21,
   "id": "5f9ee2b0",
   "metadata": {},
   "outputs": [
    {
     "data": {
      "text/plain": [
       "(0.9127051671732522, 0.8322155091181198)"
      ]
     },
     "execution_count": 21,
     "metadata": {},
     "output_type": "execute_result"
    }
   ],
   "source": [
    "y_hat_test = pipe.predict(X_test)\n",
    "\n",
    "recall_score(y_test, y_hat_test), precision_score(y_test, y_hat_test)"
   ]
  },
  {
   "cell_type": "markdown",
   "id": "d26675bf",
   "metadata": {},
   "source": [
    "The feature importance of forest models would be a useful diagnostic for future developement. These are listed as pecentages, where sum(feature_importances) = 1."
   ]
  },
  {
   "cell_type": "code",
   "execution_count": 60,
   "id": "4561fb59",
   "metadata": {},
   "outputs": [
    {
     "name": "stdout",
     "output_type": "stream",
     "text": [
      "Wall time: 15min 14s\n"
     ]
    },
    {
     "data": {
      "text/plain": [
       "(0.9979048944418532, 0.8566478749236733)"
      ]
     },
     "execution_count": 60,
     "metadata": {},
     "output_type": "execute_result"
    }
   ],
   "source": [
    "# %%time\n",
    "# pipe = Pipeline(\n",
    "#     [\n",
    "#         (\"tf\", TfidfVectorizer()),\n",
    "#         (\"rf\", RandomForestClassifier(max_depth=None))\n",
    "#     ]\n",
    "# )\n",
    "\n",
    "# pipe.fit(X_train, y_train),\n",
    "# pipe.score(X_train, y_train), pipe.score(X_test, y_test)"
   ]
  },
  {
   "cell_type": "markdown",
   "id": "fffe2d62",
   "metadata": {},
   "source": [
    "Wall time: 15min 14s\n",
    "\n",
    "Train Score: 0.9979, Test Score: 0.8566\n",
    "\n",
    "When max_depth is not set RandomForest severly overfits to the training set."
   ]
  },
  {
   "cell_type": "markdown",
   "id": "932ee5be",
   "metadata": {},
   "source": [
    "    XGBoost Random Forest"
   ]
  },
  {
   "cell_type": "code",
   "execution_count": 150,
   "id": "a7700a65",
   "metadata": {},
   "outputs": [
    {
     "name": "stderr",
     "output_type": "stream",
     "text": [
      "C:\\Users\\mjwjl\\anaconda3\\lib\\site-packages\\xgboost\\sklearn.py:1224: UserWarning: The use of label encoder in XGBClassifier is deprecated and will be removed in a future release. To remove this warning, do the following: 1) Pass option use_label_encoder=False when constructing XGBClassifier object; and 2) Encode your labels (y) as integers starting with 0, i.e. 0, 1, 2, ..., [num_class - 1].\n",
      "  warnings.warn(label_encoder_deprecation_msg, UserWarning)\n"
     ]
    },
    {
     "name": "stdout",
     "output_type": "stream",
     "text": [
      "[00:00:02] WARNING: C:/Users/Administrator/workspace/xgboost-win64_release_1.5.0/src/learner.cc:1115: Starting in XGBoost 1.3.0, the default evaluation metric used with the objective 'binary:logistic' was changed from 'error' to 'logloss'. Explicitly set eval_metric if you'd like to restore the old behavior.\n",
      "Wall time: 3min 26s\n"
     ]
    },
    {
     "data": {
      "text/plain": [
       "(0.91310147299509, 0.8958510638297872)"
      ]
     },
     "execution_count": 150,
     "metadata": {},
     "output_type": "execute_result"
    }
   ],
   "source": [
    "%%time\n",
    "pipe = Pipeline(\n",
    "    [\n",
    "        (\"tf\", TfidfVectorizer()),\n",
    "        (\"xgb\", XGBClassifier(max_depth=5))\n",
    "    ]\n",
    ")\n",
    "\n",
    "pipe.fit(X_train, y_train),\n",
    "pipe.score(X_train, y_train), pipe.score(X_test, y_test)"
   ]
  },
  {
   "cell_type": "code",
   "execution_count": 21,
   "id": "6ce9bfef",
   "metadata": {},
   "outputs": [
    {
     "name": "stderr",
     "output_type": "stream",
     "text": [
      "C:\\Users\\mjwjl\\anaconda3\\lib\\site-packages\\xgboost\\sklearn.py:1224: UserWarning: The use of label encoder in XGBClassifier is deprecated and will be removed in a future release. To remove this warning, do the following: 1) Pass option use_label_encoder=False when constructing XGBClassifier object; and 2) Encode your labels (y) as integers starting with 0, i.e. 0, 1, 2, ..., [num_class - 1].\n",
      "  warnings.warn(label_encoder_deprecation_msg, UserWarning)\n"
     ]
    },
    {
     "name": "stdout",
     "output_type": "stream",
     "text": [
      "[22:49:02] WARNING: C:/Users/Administrator/workspace/xgboost-win64_release_1.5.0/src/learner.cc:1115: Starting in XGBoost 1.3.0, the default evaluation metric used with the objective 'binary:logistic' was changed from 'error' to 'logloss'. Explicitly set eval_metric if you'd like to restore the old behavior.\n",
      "Wall time: 1min 46s\n"
     ]
    },
    {
     "data": {
      "text/plain": [
       "(0.8441571194762684, 0.8407370820668693)"
      ]
     },
     "execution_count": 21,
     "metadata": {},
     "output_type": "execute_result"
    }
   ],
   "source": [
    "%%time\n",
    "pipe = Pipeline(\n",
    "    [\n",
    "        (\"tf\", TfidfVectorizer(min_df = 0.0001, max_features=1000)),\n",
    "        (\"xgbrf\", XGBRFClassifier(max_depth=5, learning_rate = 0.1))\n",
    "    ]\n",
    ")\n",
    "\n",
    "pipe.fit(X_train, y_train),\n",
    "pipe.score(X_train, y_train), pipe.score(X_test, y_test)"
   ]
  },
  {
   "cell_type": "markdown",
   "id": "baed2fe2",
   "metadata": {},
   "source": [
    "XGB and XGBRF are left here for future development and experimentation. With very little work or preprocessing these models perform exceedingly well."
   ]
  }
 ],
 "metadata": {
  "kernelspec": {
   "display_name": "Python 3",
   "language": "python",
   "name": "python3"
  },
  "language_info": {
   "codemirror_mode": {
    "name": "ipython",
    "version": 3
   },
   "file_extension": ".py",
   "mimetype": "text/x-python",
   "name": "python",
   "nbconvert_exporter": "python",
   "pygments_lexer": "ipython3",
   "version": "3.8.8"
  }
 },
 "nbformat": 4,
 "nbformat_minor": 5
}
