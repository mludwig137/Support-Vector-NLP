{
 "cells": [
  {
   "cell_type": "markdown",
   "id": "3ccff35c",
   "metadata": {},
   "source": [
    "# NLP"
   ]
  },
  {
   "cell_type": "markdown",
   "id": "f6380b94",
   "metadata": {},
   "source": [
    "## EDA & Cleaning"
   ]
  },
  {
   "cell_type": "markdown",
   "id": "bce1519e",
   "metadata": {},
   "source": [
    "    imports"
   ]
  },
  {
   "cell_type": "code",
   "execution_count": 1,
   "id": "58c84c56",
   "metadata": {},
   "outputs": [],
   "source": [
    "import numpy as np\n",
    "import pandas as pd\n",
    "\n",
    "import matplotlib.pyplot as plt\n",
    "import seaborn as sns\n",
    "\n",
    "import missingno as msno"
   ]
  },
  {
   "cell_type": "markdown",
   "id": "0f53ed21",
   "metadata": {},
   "source": [
    "    read"
   ]
  },
  {
   "cell_type": "code",
   "execution_count": 2,
   "id": "54e13b02",
   "metadata": {},
   "outputs": [
    {
     "name": "stderr",
     "output_type": "stream",
     "text": [
      "C:\\Users\\mjwjl\\anaconda3\\lib\\site-packages\\IPython\\core\\interactiveshell.py:3165: DtypeWarning: Columns (8,19,68,69,71) have mixed types.Specify dtype option on import or set low_memory=False.\n",
      "  has_raised = await self.run_ast_nodes(code_ast.body, cell_name,\n",
      "C:\\Users\\mjwjl\\anaconda3\\lib\\site-packages\\IPython\\core\\interactiveshell.py:3165: DtypeWarning: Columns (0,1,3,4,6,7,8,9,10,11,12,17,19,21,22,24,27,29,30,32,33,35,36,46,50,60,67,68,69,71,73,74,75,79,82,83,84,85,89,90,91,92,93,94,95,96,97,98,99,100,101) have mixed types.Specify dtype option on import or set low_memory=False.\n",
      "  has_raised = await self.run_ast_nodes(code_ast.body, cell_name,\n"
     ]
    }
   ],
   "source": [
    "dep_df = pd.read_csv(\"../data/r_depression_data/raw_depression_data.csv\")\n",
    "anx_df = pd.read_csv(\"../data/r_anxiety_data/raw_Anxiety_data.csv\")"
   ]
  },
  {
   "cell_type": "markdown",
   "id": "59ddd9d9",
   "metadata": {},
   "source": [
    "The data structure of each subreddit changes with time. Data types change and entire columns are added or absent depending on when a post was made. e.g. dep_df[\"is_created_from_ads_ui\"]"
   ]
  },
  {
   "cell_type": "code",
   "execution_count": 3,
   "id": "a6342d7d",
   "metadata": {},
   "outputs": [
    {
     "data": {
      "text/plain": [
       "((242712, 72), (259778, 102))"
      ]
     },
     "execution_count": 3,
     "metadata": {},
     "output_type": "execute_result"
    }
   ],
   "source": [
    "dep_df.shape, anx_df.shape"
   ]
  },
  {
   "cell_type": "markdown",
   "id": "75be1760",
   "metadata": {},
   "source": [
    "    null search"
   ]
  },
  {
   "cell_type": "code",
   "execution_count": 4,
   "id": "53e5984b",
   "metadata": {},
   "outputs": [
    {
     "data": {
      "text/plain": [
       "(1721, 12677)"
      ]
     },
     "execution_count": 4,
     "metadata": {},
     "output_type": "execute_result"
    }
   ],
   "source": [
    "dep_df[\"selftext\"].isnull().sum(), anx_df[\"selftext\"].isnull().sum()"
   ]
  },
  {
   "cell_type": "code",
   "execution_count": 5,
   "id": "eb58c84c",
   "metadata": {},
   "outputs": [
    {
     "data": {
      "text/plain": [
       "(0, 0)"
      ]
     },
     "execution_count": 5,
     "metadata": {},
     "output_type": "execute_result"
    }
   ],
   "source": [
    "dep_df[\"title\"].isnull().sum(), anx_df[\"title\"].isnull().sum()"
   ]
  },
  {
   "cell_type": "code",
   "execution_count": 6,
   "id": "8d215f92",
   "metadata": {},
   "outputs": [
    {
     "data": {
      "text/plain": [
       "(0, 0)"
      ]
     },
     "execution_count": 6,
     "metadata": {},
     "output_type": "execute_result"
    }
   ],
   "source": [
    "dep_df[\"subreddit\"].isnull().sum(), anx_df[\"subreddit\"].isnull().sum()"
   ]
  },
  {
   "cell_type": "code",
   "execution_count": 7,
   "id": "1cd0014f",
   "metadata": {},
   "outputs": [],
   "source": [
    "#msno.matrix(dep_df.iloc[:,0:20].sample(1000))\n",
    "#msno.matrix(dep_df.iloc[:,20:40].sample(1000))\n",
    "#msno.matrix(dep_df.iloc[:,40:60].sample(1000))\n",
    "#msno.matrix(dep_df.iloc[:,60:].sample(1000))"
   ]
  },
  {
   "cell_type": "markdown",
   "id": "e1c7c318",
   "metadata": {},
   "source": [
    "There are a few bands in the nulls: columns that have identical information formatted differently, author attributes that are empty have empty subattributes."
   ]
  },
  {
   "cell_type": "code",
   "execution_count": 8,
   "id": "6c01e854",
   "metadata": {},
   "outputs": [],
   "source": [
    "#dep_df.iloc[:,20:40]\n",
    "#anx_df.iloc[:,50:70]"
   ]
  },
  {
   "cell_type": "markdown",
   "id": "6dbd8989",
   "metadata": {},
   "source": [
    "Examing all columns and type of entries they contain. 10 features retained from r/depression and 11 from r/anxiety. r/anxiety has a a column for \"link flair text\" that labels the posts subject matter, e.g. advice, venting, work/school, et c.. This is retained for experimentation, but is unlikely to be incorporated as it is absent in r/depression."
   ]
  },
  {
   "cell_type": "code",
   "execution_count": 9,
   "id": "2be89a16",
   "metadata": {},
   "outputs": [],
   "source": [
    "dep_features = [\"title\", \"selftext\", \"score\", \"upvote_ratio\",\"num_comments\",\n",
    "                \"over_18\", \"created_utc\", \"full_link\", \"id\", \"subreddit\"]"
   ]
  },
  {
   "cell_type": "code",
   "execution_count": 10,
   "id": "abcd8913",
   "metadata": {},
   "outputs": [],
   "source": [
    "anx_features = [\"title\", \"selftext\", \"score\", \"link_flair_text\", \"upvote_ratio\", \"num_comments\",\n",
    "                \"over_18\", \"created_utc\", \"full_link\", \"id\", \"subreddit\"]"
   ]
  },
  {
   "cell_type": "markdown",
   "id": "5b80fea2",
   "metadata": {},
   "source": [
    "    drop missing\n",
    "    [removed]: is a removed by user, [deleted]: the user deleted account, NaN: multiple causes, one possibility was the user was banned or post was removed by moderator"
   ]
  },
  {
   "cell_type": "code",
   "execution_count": 11,
   "id": "8e88c4c3",
   "metadata": {},
   "outputs": [],
   "source": [
    "# Fails to select nulls\n",
    "# dep_df[\"selftext\"].dropna(inplace=True)\n",
    "# anx_df[\"selftext\"].dropna(inplace=True)"
   ]
  },
  {
   "cell_type": "code",
   "execution_count": 12,
   "id": "d289c06b",
   "metadata": {},
   "outputs": [],
   "source": [
    "dep_df.drop(dep_df[dep_df[\"selftext\"].isnull()].index, inplace=True)\n",
    "anx_df.drop(anx_df[anx_df[\"selftext\"].isnull()].index, inplace=True)\n",
    "\n",
    "dep_df.drop(dep_df[dep_df[\"selftext\"] == \"[removed]\"].index, inplace=True)\n",
    "anx_df.drop(anx_df[anx_df[\"selftext\"] == \"[removed]\"].index, inplace=True)\n",
    "\n",
    "dep_df.drop(dep_df[dep_df[\"selftext\"] == \"[deleted]\"].index, inplace=True)\n",
    "anx_df.drop(anx_df[anx_df[\"selftext\"] == \"[deleted]\"].index, inplace=True)\n",
    "\n",
    "dep_df.drop(dep_df[dep_df[\"selftext\"] == \"\"].index, inplace=True)\n",
    "anx_df.drop(anx_df[anx_df[\"selftext\"] == \"\"].index, inplace=True)"
   ]
  },
  {
   "cell_type": "code",
   "execution_count": 13,
   "id": "dc5b23b6",
   "metadata": {},
   "outputs": [
    {
     "data": {
      "text/plain": [
       "((199667, 72), (235555, 102))"
      ]
     },
     "execution_count": 13,
     "metadata": {},
     "output_type": "execute_result"
    }
   ],
   "source": [
    "dep_df.shape, anx_df.shape"
   ]
  },
  {
   "cell_type": "code",
   "execution_count": 14,
   "id": "386d1f9c",
   "metadata": {},
   "outputs": [
    {
     "data": {
      "text/plain": [
       "(0, 0)"
      ]
     },
     "execution_count": 14,
     "metadata": {},
     "output_type": "execute_result"
    }
   ],
   "source": [
    "dep_df[\"selftext\"].isnull().sum(), anx_df[\"selftext\"].isnull().sum()"
   ]
  },
  {
   "cell_type": "markdown",
   "id": "363402b4",
   "metadata": {},
   "source": [
    "    drop other criteria\n",
    "    word_count, char_count"
   ]
  },
  {
   "cell_type": "code",
   "execution_count": 15,
   "id": "aea445e8",
   "metadata": {},
   "outputs": [],
   "source": [
    "# dep_df[dep_df[\"selftext\"].str.len() > 10][\"selftext\"].str.len().mean(),\\\n",
    "# anx_df[anx_df[\"selftext\"].str.len() > 10][\"selftext\"].str.len().mean()"
   ]
  },
  {
   "cell_type": "code",
   "execution_count": 16,
   "id": "bee3bcce",
   "metadata": {},
   "outputs": [],
   "source": [
    "# dep_df[dep_df[\"selftext\"].str.split().str.len() > 3][\"selftext\"].str.split().str.len().mean(),\\\n",
    "# anx_df[anx_df[\"selftext\"].str.split().str.len() > 3][\"selftext\"].str.split().str.len().mean()"
   ]
  },
  {
   "cell_type": "markdown",
   "id": "bc973d06",
   "metadata": {},
   "source": [
    "These criteria were explored here, but moved to early stage preprocessing."
   ]
  },
  {
   "cell_type": "markdown",
   "id": "eded2cce",
   "metadata": {},
   "source": [
    "    Visualization: Seasonality"
   ]
  },
  {
   "cell_type": "code",
   "execution_count": 17,
   "id": "d198332f",
   "metadata": {},
   "outputs": [
    {
     "data": {
      "image/png": "[encoded data removed]",
      "text/plain": [
       "<Figure size 1152x648 with 1 Axes>"
      ]
     },
     "metadata": {
      "needs_background": "light"
     },
     "output_type": "display_data"
    }
   ],
   "source": [
    "plt.figure(figsize=(16,9))\n",
    "sns.histplot(pd.to_datetime(dep_df[dep_df[\"created_utc\"] > 1593600000][\"created_utc\"][::-1], unit=\"s\").dt.strftime(\"%b %y\"), color=\"salmon\")\n",
    "plt.ylim(7000, 16000)\n",
    "plt.title(\"r/Depression Activity by Month\", fontsize=24, color=\"dimgrey\")\n",
    "plt.ylabel(\"No. of Posts\", fontsize=20, color=\"dimgrey\")\n",
    "plt.xlabel(\"Month Year Posted\", color=\"dimgrey\", fontsize=20)\n",
    "plt.yticks(fontsize=16, color=\"dimgrey\")\n",
    "plt.xticks(rotation = 90, fontsize=16, color=\"dimgrey\")\n",
    "plt.tight_layout()\n",
    "plt.savefig(\"../images/r_depression_mo.png\", transparent=True);"
   ]
  },
  {
   "cell_type": "code",
   "execution_count": 18,
   "id": "d7c0563d",
   "metadata": {},
   "outputs": [
    {
     "data": {
      "image/png": "[encoded data removed]",
      "text/plain": [
       "<Figure size 1152x648 with 1 Axes>"
      ]
     },
     "metadata": {
      "needs_background": "light"
     },
     "output_type": "display_data"
    }
   ],
   "source": [
    "plt.figure(figsize=(16,9))\n",
    "sns.histplot(pd.to_datetime(anx_df[anx_df[\"created_utc\"] > 1593600000][\"created_utc\"][::-1], unit=\"s\").dt.strftime(\"%b %y\"), color=\"salmon\")\n",
    "plt.ylim(3000, 8500)\n",
    "plt.title(\"r/Anxiety Activity by Month\", fontsize=24, color=\"dimgrey\")\n",
    "plt.ylabel(\"No. of Posts\", fontsize=20, color=\"dimgrey\")\n",
    "plt.xlabel(\"Month Year Posted\", color=\"dimgrey\", fontsize=20)\n",
    "plt.yticks(fontsize=16, color=\"dimgrey\")\n",
    "plt.xticks(rotation = 90, fontsize=16, color=\"dimgrey\");\n",
    "plt.tight_layout()\n",
    "plt.savefig(\"../images/r_anxiety_mo.png\", transparent=True);"
   ]
  },
  {
   "cell_type": "markdown",
   "id": "a4f69c53",
   "metadata": {},
   "source": [
    "There is some weak evidence of seasonality. More historical data is needed to see if post count increase during certian mos./seasons. The 50% dip in March is notable. The conflating factors during the past two years make this difficult to interpret. Notably, this time period overlaps with a pandemic and an election/inauguration cycle."
   ]
  },
  {
   "cell_type": "markdown",
   "id": "1051f5fd",
   "metadata": {},
   "source": [
    "    Feature Selection"
   ]
  },
  {
   "cell_type": "code",
   "execution_count": 19,
   "id": "49f39167",
   "metadata": {},
   "outputs": [],
   "source": [
    "dep_df.reset_index(inplace=True, drop=True);\n",
    "anx_df.reset_index(inplace=True, drop=True);"
   ]
  },
  {
   "cell_type": "code",
   "execution_count": 20,
   "id": "72b86585",
   "metadata": {},
   "outputs": [],
   "source": [
    "dep_features_final = [\"title\", \"selftext\", \"over_18\", \"created_utc\", \"subreddit\"]\n",
    "anx_features_final = [\"title\", \"selftext\", \"over_18\", \"created_utc\", \"subreddit\"]"
   ]
  },
  {
   "cell_type": "code",
   "execution_count": 21,
   "id": "ff880b5a",
   "metadata": {},
   "outputs": [],
   "source": [
    "dep_select = dep_df[dep_features_final];\n",
    "anx_select = anx_df[anx_features_final];"
   ]
  },
  {
   "cell_type": "markdown",
   "id": "5676b8de",
   "metadata": {},
   "source": [
    "It is not clear at this stage whether the problem statement can be answered. We are looking for latent features and will have to get to the modelling stage before we can assess a direction."
   ]
  },
  {
   "cell_type": "markdown",
   "id": "c6c106d1",
   "metadata": {},
   "source": [
    "    export"
   ]
  },
  {
   "cell_type": "code",
   "execution_count": 22,
   "id": "749061f3",
   "metadata": {},
   "outputs": [],
   "source": [
    "dep_select.to_csv(\"../data/r_depression_data/cleaned_depression_data.csv\", index=False)\n",
    "anx_select.to_csv(\"../data/r_anxiety_data/cleaned_anxiety_data.csv\", index=False)"
   ]
  }
 ],
 "metadata": {
  "kernelspec": {
   "display_name": "Python 3",
   "language": "python",
   "name": "python3"
  },
  "language_info": {
   "codemirror_mode": {
    "name": "ipython",
    "version": 3
   },
   "file_extension": ".py",
   "mimetype": "text/x-python",
   "name": "python",
   "nbconvert_exporter": "python",
   "pygments_lexer": "ipython3",
   "version": "3.8.8"
  }
 },
 "nbformat": 4,
 "nbformat_minor": 5
}
